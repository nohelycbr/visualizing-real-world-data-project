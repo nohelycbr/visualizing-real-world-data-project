{
 "cells": [
  {
   "cell_type": "code",
   "execution_count": 1,
   "metadata": {},
   "outputs": [],
   "source": [
    "import pandas as pd\n",
    "import numpy as np"
   ]
  },
  {
   "cell_type": "code",
   "execution_count": 2,
   "metadata": {},
   "outputs": [
    {
     "name": "stderr",
     "output_type": "stream",
     "text": [
      "C:\\Users\\ncruzb\\AppData\\Local\\Continuum\\anaconda3\\lib\\site-packages\\IPython\\core\\interactiveshell.py:3057: DtypeWarning: Columns (47) have mixed types. Specify dtype option on import or set low_memory=False.\n",
      "  interactivity=interactivity, compiler=compiler, result=result)\n"
     ]
    }
   ],
   "source": [
    "data = pd.read_csv('../../train.csv')"
   ]
  },
  {
   "cell_type": "code",
   "execution_count": 3,
   "metadata": {},
   "outputs": [
    {
     "data": {
      "text/plain": [
       "GameId                      int64\n",
       "PlayId                      int64\n",
       "Team                       object\n",
       "X                         float64\n",
       "Y                         float64\n",
       "S                         float64\n",
       "A                         float64\n",
       "Dis                       float64\n",
       "Orientation               float64\n",
       "Dir                       float64\n",
       "NflId                       int64\n",
       "DisplayName                object\n",
       "JerseyNumber                int64\n",
       "Season                      int64\n",
       "YardLine                    int64\n",
       "Quarter                     int64\n",
       "GameClock                  object\n",
       "PossessionTeam             object\n",
       "Down                        int64\n",
       "Distance                    int64\n",
       "FieldPosition              object\n",
       "HomeScoreBeforePlay         int64\n",
       "VisitorScoreBeforePlay      int64\n",
       "NflIdRusher                 int64\n",
       "OffenseFormation           object\n",
       "OffensePersonnel           object\n",
       "DefendersInTheBox         float64\n",
       "DefensePersonnel           object\n",
       "PlayDirection              object\n",
       "TimeHandoff                object\n",
       "TimeSnap                   object\n",
       "Yards                       int64\n",
       "PlayerHeight               object\n",
       "PlayerWeight                int64\n",
       "PlayerBirthDate            object\n",
       "PlayerCollegeName          object\n",
       "Position                   object\n",
       "HomeTeamAbbr               object\n",
       "VisitorTeamAbbr            object\n",
       "Week                        int64\n",
       "Stadium                    object\n",
       "Location                   object\n",
       "StadiumType                object\n",
       "Turf                       object\n",
       "GameWeather                object\n",
       "Temperature               float64\n",
       "Humidity                  float64\n",
       "WindSpeed                  object\n",
       "WindDirection              object\n",
       "dtype: object"
      ]
     },
     "execution_count": 3,
     "metadata": {},
     "output_type": "execute_result"
    }
   ],
   "source": [
    "data.dtypes"
   ]
  },
  {
   "cell_type": "code",
   "execution_count": 4,
   "metadata": {},
   "outputs": [],
   "source": [
    "data['WindSpeed'] = data['WindSpeed'].astype(str)"
   ]
  },
  {
   "cell_type": "code",
   "execution_count": 5,
   "metadata": {},
   "outputs": [],
   "source": [
    "dic_defensa={'SS':'Strong Safety','DE':'Defensive End','ILB':'Inside Line Backer','FS':'Free Safety','CB':'Corner Back','DT':'Defensive Tackle','DB':'Defensive Back','DL':'Defensive Line','MLB':'Middle Line Backer','NT':'Nose Tackle','LB':'Line Backer','OLB':'Offside Line Backer','S':'Safety','SAF':'Safety'}\n",
    "dic_ofensa ={'WR':'Wide Receiver','TE':'Tight End','T':'Tackle Ofensivo','QB':'Quarterback','G':'Guard','C':'Centro','OG':'Offensive Guard','FB':'Full Back','HB':'Half Back','OT':'Offensive Tackle','RB':'Running Back'}\n",
    "list_ofensa =['WR','TE','T','QB','G','C','OG','FB','HB','OT','RB']"
   ]
  },
  {
   "cell_type": "code",
   "execution_count": 6,
   "metadata": {},
   "outputs": [],
   "source": [
    "data['DefensiveTeam'] = np.where(data['PossessionTeam'] == data['HomeTeamAbbr'],data['VisitorTeamAbbr'],data['HomeTeamAbbr'])"
   ]
  },
  {
   "cell_type": "code",
   "execution_count": 12,
   "metadata": {},
   "outputs": [],
   "source": [
    "posiciones_off = list(dic_ofensa.keys())\n",
    "data.loc[[(x in list_ofensa) for x in data['Position']],'Def_Off'] = 'Off'\n",
    "data.loc[[(x not in list_ofensa) for x in data['Position']],'Def_Off'] = 'Def'"
   ]
  },
  {
   "cell_type": "code",
   "execution_count": 15,
   "metadata": {},
   "outputs": [],
   "source": [
    "data['TeamPlayer'] = np.where(data['Def_Off'] == 'Off',data['PossessionTeam'],data['DefensiveTeam'])"
   ]
  },
  {
   "cell_type": "code",
   "execution_count": 16,
   "metadata": {},
   "outputs": [
    {
     "data": {
      "text/plain": [
       "0          KC\n",
       "1          KC\n",
       "2          KC\n",
       "3          KC\n",
       "4          KC\n",
       "5          KC\n",
       "6          KC\n",
       "7          KC\n",
       "8          KC\n",
       "9          KC\n",
       "10         KC\n",
       "11         NE\n",
       "12         NE\n",
       "13         NE\n",
       "14         NE\n",
       "15         NE\n",
       "16         NE\n",
       "17         NE\n",
       "18         NE\n",
       "19         NE\n",
       "20         NE\n",
       "21         NE\n",
       "22         KC\n",
       "23         KC\n",
       "24         KC\n",
       "25         KC\n",
       "26         KC\n",
       "27         KC\n",
       "28         KC\n",
       "29         KC\n",
       "         ... \n",
       "509732    SEA\n",
       "509733    SEA\n",
       "509734    SEA\n",
       "509735    SEA\n",
       "509736    SEA\n",
       "509737    SEA\n",
       "509738    SEA\n",
       "509739    SEA\n",
       "509740    ARI\n",
       "509741    ARI\n",
       "509742    ARI\n",
       "509743    ARI\n",
       "509744    ARI\n",
       "509745    ARI\n",
       "509746    ARI\n",
       "509747    ARI\n",
       "509748    ARI\n",
       "509749    ARI\n",
       "509750    ARI\n",
       "509751    SEA\n",
       "509752    SEA\n",
       "509753    SEA\n",
       "509754    SEA\n",
       "509755    SEA\n",
       "509756    SEA\n",
       "509757    SEA\n",
       "509758    SEA\n",
       "509759    SEA\n",
       "509760    SEA\n",
       "509761    SEA\n",
       "Name: TeamPlayer, Length: 509762, dtype: object"
      ]
     },
     "execution_count": 16,
     "metadata": {},
     "output_type": "execute_result"
    }
   ],
   "source": [
    "data['TeamPlayer']"
   ]
  },
  {
   "cell_type": "code",
   "execution_count": null,
   "metadata": {},
   "outputs": [],
   "source": []
  }
 ],
 "metadata": {
  "kernelspec": {
   "display_name": "Python 3",
   "language": "python",
   "name": "python3"
  },
  "language_info": {
   "codemirror_mode": {
    "name": "ipython",
    "version": 3
   },
   "file_extension": ".py",
   "mimetype": "text/x-python",
   "name": "python",
   "nbconvert_exporter": "python",
   "pygments_lexer": "ipython3",
   "version": "3.7.3"
  }
 },
 "nbformat": 4,
 "nbformat_minor": 2
}
